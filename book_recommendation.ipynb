{
 "cells": [
  {
   "cell_type": "code",
   "execution_count": null,
   "metadata": {},
   "outputs": [],
   "source": [
    "\"\"\"\n",
    "Created on 14th Sept 2020\n",
    "@author: Shilpa Chavan\n",
    "Algorithm : Recommender System Algorithm\n",
    "Dataset : book1.csv\n",
    "\"\"\""
   ]
  },
  {
   "cell_type": "code",
   "execution_count": 1,
   "metadata": {},
   "outputs": [
    {
     "data": {
      "text/html": [
       "<div>\n",
       "<style scoped>\n",
       "    .dataframe tbody tr th:only-of-type {\n",
       "        vertical-align: middle;\n",
       "    }\n",
       "\n",
       "    .dataframe tbody tr th {\n",
       "        vertical-align: top;\n",
       "    }\n",
       "\n",
       "    .dataframe thead th {\n",
       "        text-align: right;\n",
       "    }\n",
       "</style>\n",
       "<table border=\"1\" class=\"dataframe\">\n",
       "  <thead>\n",
       "    <tr style=\"text-align: right;\">\n",
       "      <th></th>\n",
       "      <th>Unnamed: 0</th>\n",
       "      <th>User.ID</th>\n",
       "      <th>Book.Title</th>\n",
       "      <th>Book.Rating</th>\n",
       "    </tr>\n",
       "  </thead>\n",
       "  <tbody>\n",
       "    <tr>\n",
       "      <th>0</th>\n",
       "      <td>1</td>\n",
       "      <td>276726</td>\n",
       "      <td>Classical Mythology</td>\n",
       "      <td>5</td>\n",
       "    </tr>\n",
       "    <tr>\n",
       "      <th>1</th>\n",
       "      <td>2</td>\n",
       "      <td>276729</td>\n",
       "      <td>Clara Callan</td>\n",
       "      <td>3</td>\n",
       "    </tr>\n",
       "    <tr>\n",
       "      <th>2</th>\n",
       "      <td>3</td>\n",
       "      <td>276729</td>\n",
       "      <td>Decision in Normandy</td>\n",
       "      <td>6</td>\n",
       "    </tr>\n",
       "    <tr>\n",
       "      <th>3</th>\n",
       "      <td>4</td>\n",
       "      <td>276736</td>\n",
       "      <td>Flu: The Story of the Great Influenza Pandemic...</td>\n",
       "      <td>8</td>\n",
       "    </tr>\n",
       "    <tr>\n",
       "      <th>4</th>\n",
       "      <td>5</td>\n",
       "      <td>276737</td>\n",
       "      <td>The Mummies of Urumchi</td>\n",
       "      <td>6</td>\n",
       "    </tr>\n",
       "    <tr>\n",
       "      <th>5</th>\n",
       "      <td>6</td>\n",
       "      <td>276744</td>\n",
       "      <td>The Kitchen God's Wife</td>\n",
       "      <td>7</td>\n",
       "    </tr>\n",
       "    <tr>\n",
       "      <th>6</th>\n",
       "      <td>7</td>\n",
       "      <td>276745</td>\n",
       "      <td>What If?: The World's Foremost Military Histor...</td>\n",
       "      <td>10</td>\n",
       "    </tr>\n",
       "    <tr>\n",
       "      <th>7</th>\n",
       "      <td>8</td>\n",
       "      <td>276747</td>\n",
       "      <td>PLEADING GUILTY</td>\n",
       "      <td>9</td>\n",
       "    </tr>\n",
       "    <tr>\n",
       "      <th>8</th>\n",
       "      <td>9</td>\n",
       "      <td>276747</td>\n",
       "      <td>Under the Black Flag: The Romance and the Real...</td>\n",
       "      <td>9</td>\n",
       "    </tr>\n",
       "    <tr>\n",
       "      <th>9</th>\n",
       "      <td>10</td>\n",
       "      <td>276747</td>\n",
       "      <td>Where You'll Find Me: And Other Stories</td>\n",
       "      <td>8</td>\n",
       "    </tr>\n",
       "  </tbody>\n",
       "</table>\n",
       "</div>"
      ],
      "text/plain": [
       "  Unnamed: 0 User.ID                                         Book.Title  \\\n",
       "0          1  276726                                Classical Mythology   \n",
       "1          2  276729                                       Clara Callan   \n",
       "2          3  276729                               Decision in Normandy   \n",
       "3          4  276736  Flu: The Story of the Great Influenza Pandemic...   \n",
       "4          5  276737                             The Mummies of Urumchi   \n",
       "5          6  276744                             The Kitchen God's Wife   \n",
       "6          7  276745  What If?: The World's Foremost Military Histor...   \n",
       "7          8  276747                                    PLEADING GUILTY   \n",
       "8          9  276747  Under the Black Flag: The Romance and the Real...   \n",
       "9         10  276747            Where You'll Find Me: And Other Stories   \n",
       "\n",
       "  Book.Rating  \n",
       "0           5  \n",
       "1           3  \n",
       "2           6  \n",
       "3           8  \n",
       "4           6  \n",
       "5           7  \n",
       "6          10  \n",
       "7           9  \n",
       "8           9  \n",
       "9           8  "
      ]
     },
     "execution_count": 1,
     "metadata": {},
     "output_type": "execute_result"
    }
   ],
   "source": [
    "import pandas as pd\n",
    "\n",
    "#import Dataset \n",
    "book = pd.read_csv(\"D:\\\\Shilpa\\\\Datascience\\\\Assignments\\\\Recommendation System\\\\book1.csv\",dtype=str,encoding='latin-1')\n",
    "book.head(10)"
   ]
  },
  {
   "cell_type": "code",
   "execution_count": 2,
   "metadata": {},
   "outputs": [
    {
     "name": "stdout",
     "output_type": "stream",
     "text": [
      "Unnamed: 0     0\n",
      "User.ID        0\n",
      "Book.Title     0\n",
      "Book.Rating    0\n",
      "dtype: int64\n"
     ]
    }
   ],
   "source": [
    "print(book.isnull().sum())"
   ]
  },
  {
   "cell_type": "code",
   "execution_count": 3,
   "metadata": {},
   "outputs": [
    {
     "data": {
      "text/plain": [
       "(10000, 4)"
      ]
     },
     "execution_count": 3,
     "metadata": {},
     "output_type": "execute_result"
    }
   ],
   "source": [
    "book.shape #shape"
   ]
  },
  {
   "cell_type": "code",
   "execution_count": 4,
   "metadata": {},
   "outputs": [
    {
     "data": {
      "text/plain": [
       "Index(['Unnamed: 0', 'User.ID', 'Book.Title', 'Book.Rating'], dtype='object')"
      ]
     },
     "execution_count": 4,
     "metadata": {},
     "output_type": "execute_result"
    }
   ],
   "source": [
    "book.columns"
   ]
  },
  {
   "cell_type": "markdown",
   "metadata": {},
   "source": [
    "# Content-based Recommender System"
   ]
  },
  {
   "cell_type": "code",
   "execution_count": 5,
   "metadata": {},
   "outputs": [],
   "source": [
    "from sklearn.feature_extraction.text import TfidfVectorizer #term frequencey- inverse document frequncy is a numerical \n",
    "#statistic that is intended to reflect how important a word is to document in a collecion or corpus\n",
    "from sklearn.feature_extraction.text import CountVectorizer\n",
    "\n",
    "# Creating a Tfidf Vectorizer to remove all stop words\n",
    "#TfidfVectorizer which will basically convert our ‘Title’ (a text column ) into numerical\n",
    "tfidf = TfidfVectorizer(stop_words=\"english\")    #taking stop words from tfid vectorizer \n"
   ]
  },
  {
   "cell_type": "code",
   "execution_count": 6,
   "metadata": {},
   "outputs": [
    {
     "data": {
      "text/plain": [
       "(10000, 11436)"
      ]
     },
     "execution_count": 6,
     "metadata": {},
     "output_type": "execute_result"
    }
   ],
   "source": [
    "# replacing the NaN values in overview column with\n",
    "# empty string\n",
    "book[\"Book.Title\"].isnull().sum() \n",
    "book[\"Book.Title\"] = book[\"Book.Title\"].fillna(\" \")\n",
    "\n",
    "# Preparing the Tfidf matrix by fitting and transforming\n",
    "tfidf_matrix = tfidf.fit_transform(book[\"Book.Title\"]) \n",
    "#Transfom a count matrix to a normalized tf or tf-idf representation\n",
    "tfidf.get_feature_names()\n",
    "tfidf_matrix.shape \n",
    "#(10000, 11436)"
   ]
  },
  {
   "cell_type": "code",
   "execution_count": 7,
   "metadata": {},
   "outputs": [
    {
     "data": {
      "text/plain": [
       "9998"
      ]
     },
     "execution_count": 7,
     "metadata": {},
     "output_type": "execute_result"
    }
   ],
   "source": [
    "# with the above matrix we need to find the \n",
    "# similarity score\n",
    "# There are several metrics for this\n",
    "# such as the euclidean, the Pearson and \n",
    "# the cosine similarity scores\n",
    "\n",
    "# For now we will be using cosine similarity matrix\n",
    "# A numeric quantity to represent the similarity \n",
    "# between 2 movies \n",
    "# Cosine similarity - metric is independent of \n",
    "# magnitude and easy to calculate \n",
    "\n",
    "# cosine(x,y)= (x.y⊺)/(||x||.||y||)\n",
    "\n",
    "from sklearn.metrics.pairwise import linear_kernel\n",
    "\n",
    "# Computing the cosine similarity on Tfidf matrix\n",
    "cosine_sim_matrix = linear_kernel(tfidf_matrix,tfidf_matrix)\n",
    "\n",
    "# creating a mapping of book name to index number \n",
    "book_index = pd.Series(book.index,index=book['Book.Title']).drop_duplicates()\n",
    "book_index[\"Twilight\"]\n"
   ]
  },
  {
   "cell_type": "code",
   "execution_count": 9,
   "metadata": {},
   "outputs": [],
   "source": [
    "def get_book_recommendations(Name,topN):\n",
    "    \n",
    "    # Getting the movie index using its title \n",
    "    book_id = book_index[Name]\n",
    "    \n",
    "    # Getting the pair wise similarity score for all the title's with that \n",
    "    # book titles\n",
    "    cosine_scores = list(enumerate(cosine_sim_matrix[book_id]))\n",
    "    #print(\"cosine_scores\",cosine_scores)\n",
    "    # Sorting the cosine_similarity scores based on scores \n",
    "    cosine_scores = sorted(cosine_scores,key=lambda x:x[1],reverse = True)\n",
    "    \n",
    "    # Get the scores of top 10 most similar book's\n",
    "    cosine_scores_10 = cosine_scores[0:topN+1]\n",
    "    \n",
    "    # Getting the book index \n",
    "    book_idx  =  [i[0] for i in cosine_scores_10]\n",
    "    book_scores =  [i[1] for i in cosine_scores_10]\n",
    "    \n",
    "    # Similar books and scores\n",
    "    book_similar_show = pd.DataFrame(columns=[\"Name\",\"Score\"])\n",
    "    book_similar_show[\"Name\"] = book.loc[book_idx,\"Book.Title\"]\n",
    "    book_similar_show[\"Score\"] = book_scores\n",
    "    book_similar_show.reset_index(inplace=True)  \n",
    "    book_similar_show.drop([\"index\"],axis=1,inplace=True)\n",
    "    #print (book_similar_show)\n",
    "    return (book_similar_show)\n"
   ]
  },
  {
   "cell_type": "code",
   "execution_count": 10,
   "metadata": {},
   "outputs": [
    {
     "data": {
      "text/html": [
       "<div>\n",
       "<style scoped>\n",
       "    .dataframe tbody tr th:only-of-type {\n",
       "        vertical-align: middle;\n",
       "    }\n",
       "\n",
       "    .dataframe tbody tr th {\n",
       "        vertical-align: top;\n",
       "    }\n",
       "\n",
       "    .dataframe thead th {\n",
       "        text-align: right;\n",
       "    }\n",
       "</style>\n",
       "<table border=\"1\" class=\"dataframe\">\n",
       "  <thead>\n",
       "    <tr style=\"text-align: right;\">\n",
       "      <th></th>\n",
       "      <th>Name</th>\n",
       "      <th>Score</th>\n",
       "    </tr>\n",
       "  </thead>\n",
       "  <tbody>\n",
       "    <tr>\n",
       "      <th>0</th>\n",
       "      <td>Twilight</td>\n",
       "      <td>1.000000</td>\n",
       "    </tr>\n",
       "    <tr>\n",
       "      <th>1</th>\n",
       "      <td>Edge of Twilight</td>\n",
       "      <td>0.743196</td>\n",
       "    </tr>\n",
       "    <tr>\n",
       "      <th>2</th>\n",
       "      <td>Embrace the Twilight</td>\n",
       "      <td>0.677633</td>\n",
       "    </tr>\n",
       "    <tr>\n",
       "      <th>3</th>\n",
       "      <td>Dragons of Autumn Twilight (Dragonlance Chroni...</td>\n",
       "      <td>0.414123</td>\n",
       "    </tr>\n",
       "    <tr>\n",
       "      <th>4</th>\n",
       "      <td>Twilight (Star Trek Deep Space Nine: Mission G...</td>\n",
       "      <td>0.408478</td>\n",
       "    </tr>\n",
       "    <tr>\n",
       "      <th>5</th>\n",
       "      <td>Twilight over Burma: My Life As a Shan Princes...</td>\n",
       "      <td>0.379453</td>\n",
       "    </tr>\n",
       "    <tr>\n",
       "      <th>6</th>\n",
       "      <td>Moreau Omnibus: Forests of the Night/Emperors ...</td>\n",
       "      <td>0.341455</td>\n",
       "    </tr>\n",
       "    <tr>\n",
       "      <th>7</th>\n",
       "      <td>Classical Mythology</td>\n",
       "      <td>0.000000</td>\n",
       "    </tr>\n",
       "    <tr>\n",
       "      <th>8</th>\n",
       "      <td>Clara Callan</td>\n",
       "      <td>0.000000</td>\n",
       "    </tr>\n",
       "    <tr>\n",
       "      <th>9</th>\n",
       "      <td>Decision in Normandy</td>\n",
       "      <td>0.000000</td>\n",
       "    </tr>\n",
       "    <tr>\n",
       "      <th>10</th>\n",
       "      <td>Flu: The Story of the Great Influenza Pandemic...</td>\n",
       "      <td>0.000000</td>\n",
       "    </tr>\n",
       "  </tbody>\n",
       "</table>\n",
       "</div>"
      ],
      "text/plain": [
       "                                                 Name     Score\n",
       "0                                            Twilight  1.000000\n",
       "1                                    Edge of Twilight  0.743196\n",
       "2                                Embrace the Twilight  0.677633\n",
       "3   Dragons of Autumn Twilight (Dragonlance Chroni...  0.414123\n",
       "4   Twilight (Star Trek Deep Space Nine: Mission G...  0.408478\n",
       "5   Twilight over Burma: My Life As a Shan Princes...  0.379453\n",
       "6   Moreau Omnibus: Forests of the Night/Emperors ...  0.341455\n",
       "7                                 Classical Mythology  0.000000\n",
       "8                                        Clara Callan  0.000000\n",
       "9                                Decision in Normandy  0.000000\n",
       "10  Flu: The Story of the Great Influenza Pandemic...  0.000000"
      ]
     },
     "execution_count": 10,
     "metadata": {},
     "output_type": "execute_result"
    }
   ],
   "source": [
    "# Enter your book and number of book's to be recommended \n",
    "get_book_recommendations(\"Twilight\",topN=10)"
   ]
  },
  {
   "cell_type": "code",
   "execution_count": null,
   "metadata": {},
   "outputs": [],
   "source": []
  }
 ],
 "metadata": {
  "kernelspec": {
   "display_name": "Python 3",
   "language": "python",
   "name": "python3"
  },
  "language_info": {
   "codemirror_mode": {
    "name": "ipython",
    "version": 3
   },
   "file_extension": ".py",
   "mimetype": "text/x-python",
   "name": "python",
   "nbconvert_exporter": "python",
   "pygments_lexer": "ipython3",
   "version": "3.7.6"
  },
  "varInspector": {
   "cols": {
    "lenName": 16,
    "lenType": 16,
    "lenVar": 40
   },
   "kernels_config": {
    "python": {
     "delete_cmd_postfix": "",
     "delete_cmd_prefix": "del ",
     "library": "var_list.py",
     "varRefreshCmd": "print(var_dic_list())"
    },
    "r": {
     "delete_cmd_postfix": ") ",
     "delete_cmd_prefix": "rm(",
     "library": "var_list.r",
     "varRefreshCmd": "cat(var_dic_list()) "
    }
   },
   "types_to_exclude": [
    "module",
    "function",
    "builtin_function_or_method",
    "instance",
    "_Feature"
   ],
   "window_display": false
  }
 },
 "nbformat": 4,
 "nbformat_minor": 4
}
